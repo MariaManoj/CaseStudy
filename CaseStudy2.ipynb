{
 "cells": [
  {
   "cell_type": "markdown",
   "id": "chief-receptor",
   "metadata": {},
   "source": [
    "### Name: Antonite Therese Maria\n",
    "### Contact: 9731422336"
   ]
  },
  {
   "cell_type": "markdown",
   "id": "measured-fever",
   "metadata": {},
   "source": [
    "### Case Study 2 - ANSWERS & CALCULATIONS"
   ]
  },
  {
   "cell_type": "code",
   "execution_count": 8,
   "id": "unlikely-cedar",
   "metadata": {},
   "outputs": [],
   "source": [
    "import pandas as pd\n",
    "import numpy as np"
   ]
  },
  {
   "cell_type": "markdown",
   "id": "purple-herald",
   "metadata": {},
   "source": [
    "## FACTS GIVEN"
   ]
  },
  {
   "cell_type": "code",
   "execution_count": 9,
   "id": "excellent-planning",
   "metadata": {},
   "outputs": [],
   "source": [
    "# Variables\n",
    "Avg_Bal = 1000\n",
    "Int_Rate = 0.15\n",
    "Mem_Fee_Per_Card = 20\n",
    "Loss_Rate = 0.03\n",
    "Op_Cost = 25\n",
    "Aff_Fee_Per_Card = 25\n",
    "Cost_Of_Funds = 0.065\n",
    "Cust_On_Time = 250\n",
    "Cust_30_Days = 210\n",
    "Cust_45_Days = 310\n",
    "Cust_60_Days = 230"
   ]
  },
  {
   "cell_type": "markdown",
   "id": "engaged-remedy",
   "metadata": {},
   "source": [
    "## Scenario 1\n",
    "\n",
    " i) The interest rate is simple interest. <br>\n",
    " ii) Interest is calculated on a daily basis. <br>\n",
    " iii) The average card balance is the average end of month balance. <br>\n",
    " iv) All members are more than a year old. <br>"
   ]
  },
  {
   "cell_type": "markdown",
   "id": "traditional-evidence",
   "metadata": {},
   "source": [
    "## Scenario 2\n",
    "\n",
    "i) The interest rate is compounded quarterly. <br>\n",
    "ii) Interest is calculated on a monthly basis. <br>\n",
    "iii) Membership grows at 5% month on month. <br>\n",
    "iv) Card balance grows at 5% per month for each member. <br>\n",
    "v) The average card balance is the average end of month balance. <br>"
   ]
  },
  {
   "cell_type": "markdown",
   "id": "continental-faith",
   "metadata": {},
   "source": [
    "## Question 1:"
   ]
  },
  {
   "cell_type": "markdown",
   "id": "floating-trauma",
   "metadata": {},
   "source": [
    "How much profit % is generated in 1 year?"
   ]
  },
  {
   "cell_type": "markdown",
   "id": "democratic-psychology",
   "metadata": {},
   "source": [
    "#### Scenario 1: Answer: Net Profit in 1 year = Rs. 28582950.0"
   ]
  },
  {
   "cell_type": "markdown",
   "id": "natural-former",
   "metadata": {},
   "source": [
    "#### Scenario 2: Answer: Net Profit in 1 year = Rs. 328697852.84"
   ]
  },
  {
   "cell_type": "markdown",
   "id": "civic-diagnosis",
   "metadata": {},
   "source": [
    "- The Profit is 11.5x more in Scenarion 2"
   ]
  },
  {
   "cell_type": "markdown",
   "id": "descending-diesel",
   "metadata": {},
   "source": [
    "### Assumptions & Observations:\n",
    "\n",
    "i) Since we don't have balances per day, the average monthly balance is divided by 30 for calculating per day interest. <br>\n",
    "ii) Since the interest is simple interest and the average balance is Rs.1000 per month, the days after which the Customers pay does not have any impact in the calculation. <br>\n",
    "iii) Since the Customers have been in the system for more than a year, we take the balance throughout the year (on rotation). <br>\n",
    "iv) The Membership Fee is paid annually. <br>\n",
    "v) Operating cost per card is not included for profit calculation, as it is the fees levied on cards not been used. But in the given scenarios all the cards are being used for transactions. <br>\n",
    "vi) Need more information on what Amount, the 6.5% of cost is calculated. As per assumption, the Credit Card Company will pay 6.5% of the net profit. <br> \n",
    "vii) Need more information on Expense details to calculate profit percentage. Hence only the Net Profit is reported for each scenario. <br>\n",
    "viii) The Facts are given in INR, whereas the average balance increment is mentioned in dollars. Hence dollar is converted to INR for calculations\n"
   ]
  },
  {
   "cell_type": "markdown",
   "id": "steady-conditions",
   "metadata": {},
   "source": [
    "### Calculations:"
   ]
  },
  {
   "cell_type": "markdown",
   "id": "republican-jenny",
   "metadata": {},
   "source": [
    "### Scenario 1:"
   ]
  },
  {
   "cell_type": "code",
   "execution_count": 10,
   "id": "coastal-beginning",
   "metadata": {},
   "outputs": [
    {
     "name": "stdout",
     "output_type": "stream",
     "text": [
      "Annual Interest is Rs. 30540000.0\n",
      "Scenario 1 Net Profit Rs. 28582950.0\n"
     ]
    }
   ],
   "source": [
    "# Calculations of profit\n",
    "\n",
    "# Customers who pay within credit limit period do not pay any interest as they do not have balance owed to the bank\n",
    "\n",
    "Int_Cust_On_Time = 0\n",
    "\n",
    "\n",
    "# Customers who pay after 30 days Or 45 days after last due date pay interests on balance\n",
    "# Interest is calculated on daily basis\n",
    "# We ignore the days after which the Customers pay as per Assumption ii) above\n",
    "\n",
    "Int_Cust_30_Days = Avg_Bal * Int_Rate * Cust_30_Days * 365\n",
    "\n",
    "Int_Cust_45_Days = Avg_Bal * Int_Rate * Cust_45_Days * 365\n",
    "\n",
    "# Customers paying 60 days after the last due date are removed for the proceeding months\n",
    "Int_Cust_60_Days = Avg_Bal * Int_Rate * Cust_60_Days * 60\n",
    "\n",
    "Ann_Int = Int_Cust_On_Time + Int_Cust_30_Days + Int_Cust_45_Days + Int_Cust_60_Days\n",
    "print(\"Annual Interest is Rs.\",Ann_Int)\n",
    "\n",
    "\n",
    "# Total Membership Fees\n",
    "Tot_Mem_Fee = 20 * 1000\n",
    "\n",
    "\n",
    "# Total Affiliation Fees\n",
    "S1_Aff_Fee = 10 * 1000\n",
    "\n",
    "\n",
    "# Total Profit\n",
    "S1_Tot_Profit = Ann_Int + Tot_Mem_Fee + S1_Aff_Fee\n",
    "\n",
    "\n",
    "# Net Profit\n",
    "S1_Net_Profit = S1_Tot_Profit - (Cost_Of_Funds * S1_Tot_Profit)\n",
    "print(\"Scenario 1 Net Profit Rs.\",S1_Net_Profit)"
   ]
  },
  {
   "cell_type": "markdown",
   "id": "annoying-design",
   "metadata": {},
   "source": [
    "### Scenario 2:"
   ]
  },
  {
   "cell_type": "markdown",
   "id": "successful-waters",
   "metadata": {},
   "source": [
    "### Assumptions:\n",
    "i) Interest is calculated as compound interest on quarterly basis. <br>\n",
    "ii) The overridding second fact of interest being calculated on a monthly basis is ignored."
   ]
  },
  {
   "cell_type": "code",
   "execution_count": 11,
   "id": "heavy-blast",
   "metadata": {},
   "outputs": [
    {
     "name": "stdout",
     "output_type": "stream",
     "text": [
      "Annual Interest is Rs. 351494630.0266901\n",
      "Scenario 2 Net Profit Rs. 328697852.8449002\n"
     ]
    }
   ],
   "source": [
    "# Calculations of profit\n",
    "\n",
    "# Customers who pay within credit limit period do not pay any interest as they do not have balance owed to the bank\n",
    "\n",
    "Int_Cust_On_Time = 0\n",
    "\n",
    "\n",
    "# Customers who pay after 30 days Or 45 days after last due date pay interests on balance\n",
    "# Interest is calculated as compund on quarterly basis\n",
    "\n",
    "# Card balance grows at 5% per month for each member\n",
    "Avg_30_Bal = 1000 * ((1 + (5/100)) ** 12) * Cust_30_Days\n",
    "Avg_45_Bal = 1000 * ((1 + (5/100)) ** 12) * Cust_45_Days\n",
    "Avg_60_Bal = 1000 * ((1 + (5/100)) ** 12) * Cust_60_Days\n",
    "\n",
    "Int_Cust_30_Days = (Avg_30_Bal * ((1 + ((0.15/4)/100)) ** (4*12))) * Cust_30_Days\n",
    "\n",
    "Int_Cust_45_Days = (Avg_45_Bal * ((1 + ((0.15/4)/100)) ** (4*12))) * Cust_45_Days\n",
    "\n",
    "\n",
    "# Customers paying 60 days after the last due date are removed for the proceeding months\n",
    "Int_Cust_60_Days = (Avg_60_Bal * ((1 + ((0.15/4)/100)) ** 4)) * Cust_60_Days\n",
    "\n",
    "Ann_Int = Int_Cust_On_Time + Int_Cust_30_Days + Int_Cust_45_Days + Int_Cust_60_Days\n",
    "print(\"Annual Interest is Rs.\",Ann_Int)\n",
    "\n",
    "\n",
    "# Total Membership Fees (growing 5 % month on month)\n",
    "Tot_Mem_Fee = 1000 * ((1 + (5/100)) ** 12) * 20\n",
    "\n",
    "\n",
    "# Total Affiliation Fees (As members grow 5% month on month)\n",
    "S2_Aff_Fee = 1000 * ((1 + (5/100)) ** 12) * 10\n",
    "\n",
    "\n",
    "# Total Profit\n",
    "S2_Tot_Profit = Ann_Int + Tot_Mem_Fee + S2_Aff_Fee\n",
    "\n",
    "\n",
    "# Net Profit\n",
    "S2_Net_Profit = S2_Tot_Profit - (Cost_Of_Funds * S2_Tot_Profit)\n",
    "print(\"Scenario 2 Net Profit Rs.\",S2_Net_Profit)"
   ]
  },
  {
   "cell_type": "markdown",
   "id": "pleased-triple",
   "metadata": {},
   "source": [
    "## Question 2:"
   ]
  },
  {
   "cell_type": "markdown",
   "id": "floating-absence",
   "metadata": {},
   "source": [
    "The 3% loss rate can either mean either 3% of the outstanding balance defaults or 3% of the borrowers default on their entire balance. If the average balance is increased to Rs.2000, what happens to the loss?"
   ]
  },
  {
   "cell_type": "markdown",
   "id": "statewide-equality",
   "metadata": {},
   "source": [
    "####  Answer: 3% of loss on entire balance default = n times 3 % loss rate on outsanding balance default"
   ]
  },
  {
   "cell_type": "markdown",
   "id": "olympic-occasion",
   "metadata": {},
   "source": [
    "#### n=4 considering the scenario below"
   ]
  },
  {
   "cell_type": "markdown",
   "id": "adverse-emperor",
   "metadata": {},
   "source": [
    "### Assumptions and Observations:\n",
    "i) The average increase mentioned in $ is assumed to be INR, as the rest of the facts are given in INR.<br>\n",
    "ii) If a customer fails to make even the minimum payment amount to the credit card company for six months in a row, he/she will be put in the defaulter list and their credit card account will be immediately deactivated. <br>\n",
    "https://www.bankbazaar.com/credit-card/defaulter-in-india.html  <br>\n",
    "iii) Need information on what percentage of balance amount had been defaulted by borrowers. <br>\n",
    "iv) We assume the no. of Customers who default are say 100. <br>\n",
    "v) We assume the average default amount is Rs.500 per month. <br>\n"
   ]
  },
  {
   "cell_type": "markdown",
   "id": "decent-cricket",
   "metadata": {},
   "source": [
    "### Calculations:"
   ]
  },
  {
   "cell_type": "code",
   "execution_count": 12,
   "id": "electric-agreement",
   "metadata": {},
   "outputs": [
    {
     "name": "stdout",
     "output_type": "stream",
     "text": [
      "Loss 3% of the outstanding balance defaults: Rs. 270000.0\n",
      "Loss 3% of borrowers default on their entire balance: Rs. 1080000.0\n"
     ]
    }
   ],
   "source": [
    "# 3% of the outstanding balance defaults \n",
    "Loss_on_def_bal = 0.03 * 100 * 500 * 180\n",
    "\n",
    "# 3% of the borrowers default on their entire balance for a period of six months\n",
    "Loss_on_ent_bal = 0.03 * 100 * 2000 * 180\n",
    "\n",
    "print(\"Loss 3% of the outstanding balance defaults: Rs.\",Loss_on_def_bal)\n",
    "print(\"Loss 3% of borrowers default on their entire balance: Rs.\",Loss_on_ent_bal)"
   ]
  },
  {
   "cell_type": "markdown",
   "id": "descending-tattoo",
   "metadata": {},
   "source": [
    "### Q3: Is a borrower with a low balance more or less likely to default then a borrower with a high balance? Why ? explain clearly"
   ]
  },
  {
   "cell_type": "markdown",
   "id": "linear-anatomy",
   "metadata": {},
   "source": [
    "#### Answer: There are various other factors that influence the likelihood of a borrower to default. So a customer with high balance and a potential increase in the account balances is more likely to default as per studies and ML algorithms on past data."
   ]
  },
  {
   "cell_type": "markdown",
   "id": "federal-decision",
   "metadata": {},
   "source": [
    "Credit utilization is the ratio of your outstanding credit card balances to your credit card limits. <br>\n",
    "https://www.thebalance.com/understanding-credit-utilization-960451 "
   ]
  },
  {
   "cell_type": "markdown",
   "id": "recorded-conspiracy",
   "metadata": {},
   "source": [
    "EAD (Exposure at default) is based on the idea that risk exposure depends on outstanding balances that can accrue before default. For example, for loans with credit limits, such as credit cards or lines of credit, risk exposure estimates should include, not just current balances, but also the potential increase in the account balances that might happen before the borrower defaults.<br>\n",
    "https://www.investopedia.com/ask/answers/022415/what-factors-are-taken-account-quantify-credit-risk.asp#:~:text=Probability%20of%20Default,-The%20probability%20of&text=For%20individual%20borrowers%2C%20default%20probability,instruments%2C%20such%20as%20corporate%20bonds. "
   ]
  },
  {
   "cell_type": "markdown",
   "id": "wound-thanksgiving",
   "metadata": {},
   "source": [
    "### Q4: The group company has now become unhappy with the credit card provider. it wants to start its own credit card. But for that, it will need to purchase the customers from the current credit card company. If the affilated group offered Rs 20 per account to purchase all the customers from the credit card company, what would there profit be? (assume that we are only talking about 1 year)"
   ]
  },
  {
   "cell_type": "markdown",
   "id": "returning-douglas",
   "metadata": {},
   "source": [
    "#### Answer: \n",
    "- Scenario 1: Net Profit of the Affiliated group is Rs. 28544991.43\n",
    "- Scenario 2: Net Profit of the Affiliated group is Rs. 328659894.28\n"
   ]
  },
  {
   "cell_type": "markdown",
   "id": "danish-engineer",
   "metadata": {},
   "source": [
    "### Scenario 1"
   ]
  },
  {
   "cell_type": "code",
   "execution_count": 13,
   "id": "private-conditioning",
   "metadata": {},
   "outputs": [
    {
     "name": "stdout",
     "output_type": "stream",
     "text": [
      "Net Profit of the Affiliated group is Rs. 28552950.0\n"
     ]
    }
   ],
   "source": [
    "# Net Profit as calculated by Question 1\n",
    "# S1_Net_Profit\n",
    "\n",
    "# Purchase of all the customers from the credit card company\n",
    "# Rs.20 per customer \n",
    "# Total customers are 1000 in numbers\n",
    "Cost_to_Credit_Co = 20 * 1000\n",
    "\n",
    "# Deducting the total affiliation fee as well, since the fee cancels out if the Affiliation Company takes over\n",
    "Aff_Grp_Profit = S1_Net_Profit - Cost_to_Credit_Co - S1_Aff_Fee\n",
    "print(\"Net Profit of the Affiliated group is Rs.\",Aff_Grp_Profit)"
   ]
  },
  {
   "cell_type": "markdown",
   "id": "adapted-instruction",
   "metadata": {},
   "source": [
    "### Scenario 2"
   ]
  },
  {
   "cell_type": "code",
   "execution_count": 14,
   "id": "massive-memphis",
   "metadata": {},
   "outputs": [
    {
     "name": "stdout",
     "output_type": "stream",
     "text": [
      "Net Profit of the Affiliated group is Rs. 328659894.28164\n"
     ]
    }
   ],
   "source": [
    "# Net Profit as calculated by Question 1\n",
    "# S1_Net_Profit\n",
    "\n",
    "# Purchase of all the customers from the credit card company\n",
    "# Rs.20 per customer \n",
    "# Total customers are 1000 in numbers\n",
    "Cost_to_Credit_Co = 20 * 1000\n",
    "\n",
    "# Deducting the total affiliation fee as well, since the fee cancels out if the Affiliation Company takes over\n",
    "Aff_Grp_Profit = S2_Net_Profit - Cost_to_Credit_Co - S2_Aff_Fee\n",
    "print(\"Net Profit of the Affiliated group is Rs.\",Aff_Grp_Profit)"
   ]
  },
  {
   "cell_type": "markdown",
   "id": "compatible-excerpt",
   "metadata": {},
   "source": [
    "### Q5: What numbers can the financial institution change to convince the affiliated group not to want to purchase, while still not going into a loss? Give a range of what the new numbers are (min and max)"
   ]
  },
  {
   "cell_type": "markdown",
   "id": "communist-domain",
   "metadata": {},
   "source": [
    "#### Answer: <br> \n",
    "The financial institution should compromise on the Affiliation Fee per Customer without going into a loss. \n",
    "- Reduce Affiliation Fees (Min Rs.5 to Max Rs.8)\n",
    "- Balance the loss by increasing the interest rate by 3%\n",
    " "
   ]
  },
  {
   "cell_type": "markdown",
   "id": "motivated-novelty",
   "metadata": {},
   "source": [
    "### Q6: What is the extra cost(if any) company will have to incur if the customer delays the payment of the credit card bill after the due date?"
   ]
  },
  {
   "cell_type": "markdown",
   "id": "wrapped-roulette",
   "metadata": {},
   "source": [
    "### Answer: <br>\n",
    "- Extra cost of resources for sending reminders and notifications and phone calls\n",
    "- Cost incurred on Loan Recovery Agents, Arbitration and Conciliation and Police Complaints\n",
    "- Cost to file Lawsuit <br>\n",
    "https://www.paisabazaar.com/credit-card/what-happens-when-you-default-on-credit-cards/"
   ]
  },
  {
   "cell_type": "markdown",
   "id": "violent-tomato",
   "metadata": {},
   "source": [
    "### Q7: Is it beneficial for the company if the customer pays the credit card bill after the due date? (express your views as a business strategy analyst with a short example)"
   ]
  },
  {
   "cell_type": "markdown",
   "id": "auburn-parking",
   "metadata": {},
   "source": [
    "#### Answer:\n",
    "Yes.\n",
    "\n",
    "- Total Amount Due = Total interest + Late payment fee + Service tax + Outstanding amount\n",
    "\n",
    "- <b> The Profit made by Company </b> = Total interest + Late payment fee + Service tax \n"
   ]
  },
  {
   "cell_type": "markdown",
   "id": "international-milton",
   "metadata": {},
   "source": [
    "Example:\n",
    "- Late Payment Fee Rs.500\n",
    "- Monthly interest is 0.15%\n",
    "- Service Tax is 2%\n",
    "- Aug 6th Purchase of Rs.40000\n",
    "- Aug 18th Purchase of Rs.5000\n",
    "- Aug 21st - Due Amount Rs.45000\n",
    "- Sep 3rd - Payment to Credit account Rs.20000\n",
    "- Payment due date is Oct 1st (including grace period)\n",
    "- Customer pays back on 23rd Oct"
   ]
  },
  {
   "cell_type": "markdown",
   "id": "falling-discrimination",
   "metadata": {},
   "source": [
    "#### Calcuation of charges to Company:\n",
    "- Balance due + Total Interest + Late Payment Fee + Service Tax\n",
    "- Interest = outstanding amount x monthly percentage x 12 months x number of days/365\n",
    "- Interest = 25000 x 0.15 x 12 x 22/365 = 2700\n",
    "- Amount payable by 23rd Oct = 25000 + 2700 + (0.02 x 25000) = Rs.28,200\n",
    "- <b> Profit to Company </b> = Rs.3,200"
   ]
  }
 ],
 "metadata": {
  "kernelspec": {
   "display_name": "Python 3",
   "language": "python",
   "name": "python3"
  },
  "language_info": {
   "codemirror_mode": {
    "name": "ipython",
    "version": 3
   },
   "file_extension": ".py",
   "mimetype": "text/x-python",
   "name": "python",
   "nbconvert_exporter": "python",
   "pygments_lexer": "ipython3",
   "version": "3.8.8"
  }
 },
 "nbformat": 4,
 "nbformat_minor": 5
}
